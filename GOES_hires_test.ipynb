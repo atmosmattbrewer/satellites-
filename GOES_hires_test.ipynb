{
 "cells": [
  {
   "cell_type": "code",
   "execution_count": 1,
   "metadata": {
    "ExecuteTime": {
     "end_time": "2019-04-01T22:46:42.612111Z",
     "start_time": "2019-04-01T22:46:42.364253Z"
    }
   },
   "outputs": [
    {
     "ename": "ImportError",
     "evalue": "\n\nIMPORTANT: PLEASE READ THIS FOR ADVICE ON HOW TO SOLVE THIS ISSUE!\n\nImporting the multiarray numpy extension module failed.  Most\nlikely you are trying to import a failed build of numpy.\nHere is how to proceed:\n- If you're working with a numpy git repository, try `git clean -xdf`\n  (removes all files not under version control) and rebuild numpy.\n- If you are simply trying to use the numpy version that you have installed:\n  your installation is broken - please reinstall numpy.\n- If you have already reinstalled and that did not fix the problem, then:\n  1. Check that you are using the Python you expect (you're using C:\\Users\\Matthew\\AppData\\Local\\conda\\conda\\envs\\sats\\python.exe),\n     and that you have no directories in your PATH or PYTHONPATH that can\n     interfere with the Python and numpy versions you're trying to use.\n  2. If (1) looks fine, you can open a new issue at\n     https://github.com/numpy/numpy/issues.  Please include details on:\n     - how you installed Python\n     - how you installed numpy\n     - your operating system\n     - whether or not you have multiple versions of Python installed\n     - if you built from source, your compiler versions and ideally a build log\n\n     Note: this error has many possible causes, so please don't comment on\n     an existing issue about this - open a new one instead.\n\nOriginal error was: DLL load failed: The specified module could not be found.\n",
     "output_type": "error",
     "traceback": [
      "\u001b[1;31m---------------------------------------------------------------------------\u001b[0m",
      "\u001b[1;31mImportError\u001b[0m                               Traceback (most recent call last)",
      "\u001b[1;32m~\\AppData\\Local\\conda\\conda\\envs\\sats\\lib\\site-packages\\numpy\\core\\__init__.py\u001b[0m in \u001b[0;36m<module>\u001b[1;34m\u001b[0m\n\u001b[0;32m     39\u001b[0m \u001b[1;32mtry\u001b[0m\u001b[1;33m:\u001b[0m\u001b[1;33m\u001b[0m\u001b[1;33m\u001b[0m\u001b[0m\n\u001b[1;32m---> 40\u001b[1;33m     \u001b[1;32mfrom\u001b[0m \u001b[1;33m.\u001b[0m \u001b[1;32mimport\u001b[0m \u001b[0mmultiarray\u001b[0m\u001b[1;33m\u001b[0m\u001b[1;33m\u001b[0m\u001b[0m\n\u001b[0m\u001b[0;32m     41\u001b[0m \u001b[1;32mexcept\u001b[0m \u001b[0mImportError\u001b[0m \u001b[1;32mas\u001b[0m \u001b[0mexc\u001b[0m\u001b[1;33m:\u001b[0m\u001b[1;33m\u001b[0m\u001b[1;33m\u001b[0m\u001b[0m\n",
      "\u001b[1;32m~\\AppData\\Local\\conda\\conda\\envs\\sats\\lib\\site-packages\\numpy\\core\\multiarray.py\u001b[0m in \u001b[0;36m<module>\u001b[1;34m\u001b[0m\n\u001b[0;32m     11\u001b[0m \u001b[1;33m\u001b[0m\u001b[0m\n\u001b[1;32m---> 12\u001b[1;33m \u001b[1;32mfrom\u001b[0m \u001b[1;33m.\u001b[0m \u001b[1;32mimport\u001b[0m \u001b[0moverrides\u001b[0m\u001b[1;33m\u001b[0m\u001b[1;33m\u001b[0m\u001b[0m\n\u001b[0m\u001b[0;32m     13\u001b[0m \u001b[1;32mfrom\u001b[0m \u001b[1;33m.\u001b[0m \u001b[1;32mimport\u001b[0m \u001b[0m_multiarray_umath\u001b[0m\u001b[1;33m\u001b[0m\u001b[1;33m\u001b[0m\u001b[0m\n",
      "\u001b[1;32m~\\AppData\\Local\\conda\\conda\\envs\\sats\\lib\\site-packages\\numpy\\core\\overrides.py\u001b[0m in \u001b[0;36m<module>\u001b[1;34m\u001b[0m\n\u001b[0;32m      5\u001b[0m \u001b[1;33m\u001b[0m\u001b[0m\n\u001b[1;32m----> 6\u001b[1;33m from numpy.core._multiarray_umath import (\n\u001b[0m\u001b[0;32m      7\u001b[0m     add_docstring, implement_array_function, _get_implementing_args)\n",
      "\u001b[1;31mImportError\u001b[0m: DLL load failed: The specified module could not be found.",
      "\nDuring handling of the above exception, another exception occurred:\n",
      "\u001b[1;31mImportError\u001b[0m                               Traceback (most recent call last)",
      "\u001b[1;32m<ipython-input-1-9619fcfabd12>\u001b[0m in \u001b[0;36m<module>\u001b[1;34m\u001b[0m\n\u001b[1;32m----> 1\u001b[1;33m \u001b[1;32mfrom\u001b[0m \u001b[0msatpy\u001b[0m \u001b[1;32mimport\u001b[0m \u001b[0mScene\u001b[0m\u001b[1;33m\u001b[0m\u001b[1;33m\u001b[0m\u001b[0m\n\u001b[0m\u001b[0;32m      2\u001b[0m \u001b[1;32mimport\u001b[0m \u001b[0mcartopy\u001b[0m\u001b[1;33m.\u001b[0m\u001b[0mcrs\u001b[0m \u001b[1;32mas\u001b[0m \u001b[0mccrs\u001b[0m\u001b[1;33m\u001b[0m\u001b[1;33m\u001b[0m\u001b[0m\n\u001b[0;32m      3\u001b[0m \u001b[1;32mimport\u001b[0m \u001b[0mcartopy\u001b[0m\u001b[1;33m.\u001b[0m\u001b[0mfeature\u001b[0m \u001b[1;32mas\u001b[0m \u001b[0mcfeature\u001b[0m\u001b[1;33m\u001b[0m\u001b[1;33m\u001b[0m\u001b[0m\n\u001b[0;32m      4\u001b[0m \u001b[1;32mfrom\u001b[0m \u001b[0mmetpy\u001b[0m\u001b[1;33m.\u001b[0m\u001b[0mplots\u001b[0m \u001b[1;32mimport\u001b[0m \u001b[0mUSCOUNTIES\u001b[0m\u001b[1;33m\u001b[0m\u001b[1;33m\u001b[0m\u001b[0m\n\u001b[0;32m      5\u001b[0m \u001b[1;32mfrom\u001b[0m \u001b[0mglob\u001b[0m \u001b[1;32mimport\u001b[0m \u001b[0mglob\u001b[0m\u001b[1;33m\u001b[0m\u001b[1;33m\u001b[0m\u001b[0m\n",
      "\u001b[1;32m~\\AppData\\Local\\conda\\conda\\envs\\sats\\lib\\site-packages\\satpy\\__init__.py\u001b[0m in \u001b[0;36m<module>\u001b[1;34m\u001b[0m\n\u001b[0;32m     53\u001b[0m \u001b[0mCALIBRATION_ORDER\u001b[0m \u001b[1;33m=\u001b[0m \u001b[1;33m{\u001b[0m\u001b[0mcal\u001b[0m\u001b[1;33m:\u001b[0m \u001b[0midx\u001b[0m \u001b[1;32mfor\u001b[0m \u001b[0midx\u001b[0m\u001b[1;33m,\u001b[0m \u001b[0mcal\u001b[0m \u001b[1;32min\u001b[0m \u001b[0menumerate\u001b[0m\u001b[1;33m(\u001b[0m\u001b[0mCALIBRATION_ORDER\u001b[0m\u001b[1;33m)\u001b[0m\u001b[1;33m}\u001b[0m\u001b[1;33m\u001b[0m\u001b[1;33m\u001b[0m\u001b[0m\n\u001b[0;32m     54\u001b[0m \u001b[1;33m\u001b[0m\u001b[0m\n\u001b[1;32m---> 55\u001b[1;33m \u001b[1;32mfrom\u001b[0m \u001b[0msatpy\u001b[0m\u001b[1;33m.\u001b[0m\u001b[0mutils\u001b[0m \u001b[1;32mimport\u001b[0m \u001b[0mget_logger\u001b[0m  \u001b[1;31m# noqa\u001b[0m\u001b[1;33m\u001b[0m\u001b[1;33m\u001b[0m\u001b[0m\n\u001b[0m\u001b[0;32m     56\u001b[0m \u001b[1;32mfrom\u001b[0m \u001b[0msatpy\u001b[0m\u001b[1;33m.\u001b[0m\u001b[0mdataset\u001b[0m \u001b[1;32mimport\u001b[0m \u001b[0mDatasetID\u001b[0m\u001b[1;33m,\u001b[0m \u001b[0mDATASET_KEYS\u001b[0m  \u001b[1;31m# noqa\u001b[0m\u001b[1;33m\u001b[0m\u001b[1;33m\u001b[0m\u001b[0m\n\u001b[0;32m     57\u001b[0m from satpy.readers import (DatasetDict, find_files_and_readers,  # noqa\n",
      "\u001b[1;32m~\\AppData\\Local\\conda\\conda\\envs\\sats\\lib\\site-packages\\satpy\\utils.py\u001b[0m in \u001b[0;36m<module>\u001b[1;34m\u001b[0m\n\u001b[0;32m     32\u001b[0m \u001b[1;32mimport\u001b[0m \u001b[0mre\u001b[0m\u001b[1;33m\u001b[0m\u001b[1;33m\u001b[0m\u001b[0m\n\u001b[0;32m     33\u001b[0m \u001b[1;33m\u001b[0m\u001b[0m\n\u001b[1;32m---> 34\u001b[1;33m \u001b[1;32mimport\u001b[0m \u001b[0mnumpy\u001b[0m \u001b[1;32mas\u001b[0m \u001b[0mnp\u001b[0m\u001b[1;33m\u001b[0m\u001b[1;33m\u001b[0m\u001b[0m\n\u001b[0m\u001b[0;32m     35\u001b[0m \u001b[1;32mimport\u001b[0m \u001b[0mxarray\u001b[0m\u001b[1;33m.\u001b[0m\u001b[0mufuncs\u001b[0m \u001b[1;32mas\u001b[0m \u001b[0mxu\u001b[0m\u001b[1;33m\u001b[0m\u001b[1;33m\u001b[0m\u001b[0m\n\u001b[0;32m     36\u001b[0m \u001b[1;33m\u001b[0m\u001b[0m\n",
      "\u001b[1;32m~\\AppData\\Local\\conda\\conda\\envs\\sats\\lib\\site-packages\\numpy\\__init__.py\u001b[0m in \u001b[0;36m<module>\u001b[1;34m\u001b[0m\n\u001b[0;32m    140\u001b[0m     \u001b[1;32mfrom\u001b[0m \u001b[1;33m.\u001b[0m \u001b[1;32mimport\u001b[0m \u001b[0m_distributor_init\u001b[0m\u001b[1;33m\u001b[0m\u001b[1;33m\u001b[0m\u001b[0m\n\u001b[0;32m    141\u001b[0m \u001b[1;33m\u001b[0m\u001b[0m\n\u001b[1;32m--> 142\u001b[1;33m     \u001b[1;32mfrom\u001b[0m \u001b[1;33m.\u001b[0m \u001b[1;32mimport\u001b[0m \u001b[0mcore\u001b[0m\u001b[1;33m\u001b[0m\u001b[1;33m\u001b[0m\u001b[0m\n\u001b[0m\u001b[0;32m    143\u001b[0m     \u001b[1;32mfrom\u001b[0m \u001b[1;33m.\u001b[0m\u001b[0mcore\u001b[0m \u001b[1;32mimport\u001b[0m \u001b[1;33m*\u001b[0m\u001b[1;33m\u001b[0m\u001b[1;33m\u001b[0m\u001b[0m\n\u001b[0;32m    144\u001b[0m     \u001b[1;32mfrom\u001b[0m \u001b[1;33m.\u001b[0m \u001b[1;32mimport\u001b[0m \u001b[0mcompat\u001b[0m\u001b[1;33m\u001b[0m\u001b[1;33m\u001b[0m\u001b[0m\n",
      "\u001b[1;32m~\\AppData\\Local\\conda\\conda\\envs\\sats\\lib\\site-packages\\numpy\\core\\__init__.py\u001b[0m in \u001b[0;36m<module>\u001b[1;34m\u001b[0m\n\u001b[0;32m     69\u001b[0m \u001b[0mOriginal\u001b[0m \u001b[0merror\u001b[0m \u001b[0mwas\u001b[0m\u001b[1;33m:\u001b[0m \u001b[1;33m%\u001b[0m\u001b[0ms\u001b[0m\u001b[1;33m\u001b[0m\u001b[1;33m\u001b[0m\u001b[0m\n\u001b[0;32m     70\u001b[0m \"\"\" % (sys.executable, exc)\n\u001b[1;32m---> 71\u001b[1;33m     \u001b[1;32mraise\u001b[0m \u001b[0mImportError\u001b[0m\u001b[1;33m(\u001b[0m\u001b[0mmsg\u001b[0m\u001b[1;33m)\u001b[0m\u001b[1;33m\u001b[0m\u001b[1;33m\u001b[0m\u001b[0m\n\u001b[0m\u001b[0;32m     72\u001b[0m \u001b[1;32mfinally\u001b[0m\u001b[1;33m:\u001b[0m\u001b[1;33m\u001b[0m\u001b[1;33m\u001b[0m\u001b[0m\n\u001b[0;32m     73\u001b[0m     \u001b[1;32mfor\u001b[0m \u001b[0menvkey\u001b[0m \u001b[1;32min\u001b[0m \u001b[0menv_added\u001b[0m\u001b[1;33m:\u001b[0m\u001b[1;33m\u001b[0m\u001b[1;33m\u001b[0m\u001b[0m\n",
      "\u001b[1;31mImportError\u001b[0m: \n\nIMPORTANT: PLEASE READ THIS FOR ADVICE ON HOW TO SOLVE THIS ISSUE!\n\nImporting the multiarray numpy extension module failed.  Most\nlikely you are trying to import a failed build of numpy.\nHere is how to proceed:\n- If you're working with a numpy git repository, try `git clean -xdf`\n  (removes all files not under version control) and rebuild numpy.\n- If you are simply trying to use the numpy version that you have installed:\n  your installation is broken - please reinstall numpy.\n- If you have already reinstalled and that did not fix the problem, then:\n  1. Check that you are using the Python you expect (you're using C:\\Users\\Matthew\\AppData\\Local\\conda\\conda\\envs\\sats\\python.exe),\n     and that you have no directories in your PATH or PYTHONPATH that can\n     interfere with the Python and numpy versions you're trying to use.\n  2. If (1) looks fine, you can open a new issue at\n     https://github.com/numpy/numpy/issues.  Please include details on:\n     - how you installed Python\n     - how you installed numpy\n     - your operating system\n     - whether or not you have multiple versions of Python installed\n     - if you built from source, your compiler versions and ideally a build log\n\n     Note: this error has many possible causes, so please don't comment on\n     an existing issue about this - open a new one instead.\n\nOriginal error was: DLL load failed: The specified module could not be found.\n"
     ]
    }
   ],
   "source": [
    "from satpy import Scene\n",
    "import cartopy.crs as ccrs\n",
    "import cartopy.feature as cfeature\n",
    "from metpy.plots import USCOUNTIES\n",
    "from glob import glob\n",
    "# pyproj is used to georeference GOES-16 latitude and longitude coordinates\n",
    "from pyproj import Proj\n",
    "\n"
   ]
  },
  {
   "cell_type": "code",
   "execution_count": null,
   "metadata": {
    "ExecuteTime": {
     "end_time": "2019-04-01T21:53:47.028871Z",
     "start_time": "2019-04-01T21:53:19.383Z"
    }
   },
   "outputs": [],
   "source": [
    "from satpy import find_files_and_readers, Scene\n",
    "from datetime import datetime\n",
    "my_files = find_files_and_readers(base_dir='VIIRS',\n",
    "                                  reader=('viirs_sdr', 'viirs_l1b'),\n",
    "                                  start_time=datetime(2018, 11, 8, 0, 0, 0), end_time=datetime(2018, 11, 8, 23, 0, 0))\n",
    "scn = Scene(filenames=my_files)\n",
    "composite = 'true_color_lowres'\n",
    "scn.load(['M04'])\n"
   ]
  },
  {
   "cell_type": "code",
   "execution_count": null,
   "metadata": {},
   "outputs": [],
   "source": [
    "natscn = scn.resample(resampler='native')\n",
    "\n",
    "natscn.show('true_color')"
   ]
  },
  {
   "cell_type": "code",
   "execution_count": null,
   "metadata": {},
   "outputs": [],
   "source": [
    "plt.imshow(scn['C02'])\n",
    "\n",
    "\n",
    "scn.load(['M04'])\n",
    "\n",
    "\n",
    "my_area = scn['M04'].attrs['area'].compute_optimal_bb_area({'proj': 'lcc', 'lon_0': -121., 'lat_0': 25., 'lat_1': 25., 'lat_2': 25.})\n",
    "new_scn = scn.resample(my_area)\n",
    "\n",
    "\n",
    "crs = new_scn['M04'].attrs['area'].to_cartopy_crs()\n",
    "ax = plt.axes(projection=crs)\n",
    "\n",
    "ax.coastlines()\n",
    "ax.gridlines()\n",
    "ax.set_global()\n",
    "plt.imshow(new_scn['I01'], transform=crs, extent=crs.bounds, origin='upper')"
   ]
  },
  {
   "cell_type": "code",
   "execution_count": null,
   "metadata": {},
   "outputs": [],
   "source": [
    "myarea = scn['I02'].attrs['area'].compute_optimal_bb_area({'proj': 'lcc', 'lon_0': -121., 'lat_0': 25., 'lat_1': 25., 'lat_2': 25.})\n",
    "new_scn = scn.resample(my_area)"
   ]
  },
  {
   "cell_type": "code",
   "execution_count": null,
   "metadata": {},
   "outputs": [],
   "source": [
    "crs = scn['I02'].attrs['area'].to_cartopy_crs()\n",
    "ax = plt.axes(projection=crs)\n",
    "\n",
    "ax.coastlines()\n",
    "ax.gridlines()\n",
    "ax.set_global()\n",
    "plt.imshow(scn['true_color'], transform=crs, origin='upper')\n",
    "\n",
    "plt.show()\n",
    "\n"
   ]
  },
  {
   "cell_type": "code",
   "execution_count": null,
   "metadata": {},
   "outputs": [],
   "source": [
    "hi_res = glob('ABI-L1b-RadC*.nc')\n",
    "#red = ('C:/Users/Matthew/Documents/SJSUsummer2018/sat_stuff/single_channel_data/ABI-L1b-RadC_2018_312_14_OR_ABI-L1b-RadC-M3C02_G16_s20183121432181_e20183121434554_c20183121434591.nc')\n",
    "lo_res = ('ABI-L2-MCMIPC_2018_312_14_OR_ABI-L2-MCMIPC-M3_G16_s20183121402181_e20183121404554_c20183121405068.nc')\n",
    "\n",
    "red = xr.open_dataset('single_channel_data/ABI-L1b-RadC_2018_312_13_OR_ABI-L1b-RadC-M3C02_G16_s20183121357181_e20183121359554_c20183121359587.nc')\n",
    "\n",
    "lo_res = xr.open_dataset(lo_res)"
   ]
  },
  {
   "cell_type": "code",
   "execution_count": null,
   "metadata": {},
   "outputs": [],
   "source": [
    "red['Rad'].plot()"
   ]
  },
  {
   "cell_type": "code",
   "execution_count": null,
   "metadata": {},
   "outputs": [],
   "source": [
    "# True Color RGB\n",
    "#-----------------------------\n",
    "# Load the three channels into appropriate R, G, and B variables\n",
    "R = red['Rad'].data\n",
    "\n",
    "# Apply range limits for each channel. RGB values must be between 0 and 1\n",
    "R = np.clip(R, 0, 1)\n",
    "\n",
    "\n",
    "# Apply a gamma correction to the image\n",
    "gamma = 2.2\n",
    "R = np.power(R, 1/gamma)\n",
    "\n",
    "\n",
    "\n",
    "\n",
    "# Amount of contrast\n",
    "contrast_amount = 105\n",
    "\n",
    "# Apply contrast correction\n",
    "R = contrast_correction(R, contrast_amount)\n",
    "# Color tuple for pcolormesh\n",
    "#-----------------------------\n",
    "# Don't use the last column of the RGB array or else the image will be scrambled!\n",
    "# This is the strange nature of pcolormesh.\n",
    "r = R[:,:-1]\n",
    "\n",
    "# Flatten the array, becuase that's what pcolormesh wants.\n",
    "#colorTuple = r.reshape((r.shape[0] * r.shape[1]), 2)\n",
    "\n",
    "# Adding an alpha channel will plot faster, according to Stack Overflow. Not sure why.\n",
    "#colorTuple = np.insert(colorTuple, 3, 1.0, axis=1)\n",
    "\n"
   ]
  },
  {
   "cell_type": "code",
   "execution_count": null,
   "metadata": {},
   "outputs": [],
   "source": [
    "def proj_GOES16():\n",
    "    geostationaryProjParams_GOES16 = {'central_longitude' : -75.0,\n",
    "                                    'satellite_height' : 35786023.0,\n",
    "                                    'sweep_axis' : 'x'\n",
    "                                   }\n",
    "    return ccrs.Geostationary(**geostationaryProjParams_GOES16)\n",
    "\n",
    "def contrast_correction(color, contrast):\n",
    "    \"\"\"\n",
    "    Modify the contrast of an RGB\n",
    "    See: #www.dfstudios.co.uk/articles/programming/image-programming-algorithms/image-processing-algorithms-part-5-contrast-adjustment/\n",
    "\n",
    "    Input:\n",
    "        C - contrast level\n",
    "    \"\"\"\n",
    "    F = (259*(contrast + 255))/(255.*259-contrast)\n",
    "    COLOR = F*(color-.5)+.5\n",
    "    COLOR = np.minimum(COLOR, 1)\n",
    "    COLOR = np.maximum(COLOR, 0)\n",
    "    return COLOR"
   ]
  },
  {
   "cell_type": "code",
   "execution_count": null,
   "metadata": {},
   "outputs": [],
   "source": [
    "# Satellite height\n",
    "sat_h = red['goes_imager_projection'].perspective_point_height\n",
    "\n",
    "# Satellite longitude\n",
    "sat_lon = red['goes_imager_projection'].longitude_of_projection_origin\n",
    "\n",
    "# Satellite sweep\n",
    "sat_sweep = red['goes_imager_projection'].sweep_angle_axis\n",
    "\n",
    "# The projection x and y coordinates equals the scanning angle (in radians) multiplied by the satellite height\n",
    "# See details here: https://proj4.org/operations/projections/geos.html?highlight=geostationary\n",
    "x = red['x'][:] * sat_h\n",
    "y = red['y'][:] * sat_h\n",
    "\n",
    "# Generate latitude/longitude grid\n",
    "#-----------------------------\n",
    "# Create a pyproj geostationary map object\n",
    "p = Proj(proj='geos', h=sat_h, lon_0=sat_lon, sweep=sat_sweep)\n",
    "\n",
    "# Perform cartographic transformation. That is, convert image projection coordinates (x and y)\n",
    "# to latitude and longitude values.\n",
    "XX, YY = np.meshgrid(x, y)\n",
    "lons, lats = p(XX, YY, inverse=True)"
   ]
  },
  {
   "cell_type": "code",
   "execution_count": null,
   "metadata": {},
   "outputs": [],
   "source": [
    "geostationaryProjParams_GOES16 = {'central_longitude' : -75.0,\n",
    "                                    'satellite_height' : 35786023.0,\n",
    "                                 'sweep_axis' : 'x'\n",
    "                                   }\n",
    "#geostationaryProjParams_GOES16\n",
    "proj = ccrs.Geostationary(**geostationaryProjParams_GOES16)\n",
    "#proj = proj_GOES16()"
   ]
  },
  {
   "cell_type": "code",
   "execution_count": null,
   "metadata": {},
   "outputs": [],
   "source": []
  },
  {
   "cell_type": "code",
   "execution_count": null,
   "metadata": {},
   "outputs": [],
   "source": [
    "plt.figure(figsize=(10, 8))\n",
    "ax = plt.axes(projection=proj)\n",
    "\n",
    "ax.imshow(R, origin='upper', extent=(x.min(), x.max(), y.min(), y.max()))\n",
    "\n",
    "ax.coastlines(resolution='50m', color='w')"
   ]
  },
  {
   "cell_type": "code",
   "execution_count": null,
   "metadata": {},
   "outputs": [],
   "source": [
    "# Create a Cartopy projection object\n",
    "\n",
    "lccProjParams_HRRR = { 'central_latitude'   : -38.5,        # same as lat_0 in proj4 string \n",
    "                       'central_longitude'  : -97.5,        # same as lon_0\n",
    "                       'standard_parallels' : (38.5, 38.5), # same as (lat_1, lat_2)\n",
    "                     }\n",
    "\n",
    "HRRR_proj = ccrs.LambertConformal(**lccProjParams_HRRR)"
   ]
  },
  {
   "cell_type": "code",
   "execution_count": null,
   "metadata": {},
   "outputs": [],
   "source": [
    "# GOES on HRRR Projection\n",
    "fig = plt.figure(figsize=(8,8))\n",
    "\n",
    "# \"destination\" projection\n",
    "ax = plt.axes(projection=HRRR_proj)\n",
    "\n",
    "# \"Source\" projection\n",
    "ax.pcolormesh(lons, lats, R, cmap='Greys_r', transform=ccrs.PlateCarree())\n",
    "\n",
    "ax.coastlines(resolution='10m', color='dodgerblue')\n",
    "\n",
    "#ax.set_global()\n",
    "\n",
    "ax.gridlines()"
   ]
  },
  {
   "cell_type": "code",
   "execution_count": null,
   "metadata": {},
   "outputs": [],
   "source": [
    "# GOES on HRRR projection\n",
    "fig = plt.figure(figsize=(16,9))\n",
    "\n",
    "# \"destination\" projection\n",
    "ax = plt.axes(projection=HRRR_proj)\n",
    "\n",
    "# \"Source\" projection\n",
    "newmap = ax.pcolormesh(lons, lats, R, color=colorTuple, linewidth=0, transform=ccrs.PlateCarree())\n",
    "newmap.set_array(None)\n",
    "\n",
    "ax.coastlines(resolution='10m', color='dodgerblue')\n",
    "\n",
    "ax.set_extent([-122, -120, 38.5, 40.5])\n",
    "ax.gridlines()\n",
    "\n"
   ]
  },
  {
   "cell_type": "code",
   "execution_count": null,
   "metadata": {},
   "outputs": [],
   "source": [
    "# Load the three channels into appropriate R, G, and B variables\n",
    "R_f = C['CMI_C07'].data\n",
    "G_f = C['CMI_C06'].data\n",
    "B_f = C['CMI_C05'].data\n",
    "# Normalize each channel by the appropriate range of values  e.g. R = (R-minimum)/(maximum-minimum)\n",
    "R_f = (R_f-273)/(333-273)\n",
    "G_f = (G_f-0)/(1-0)\n",
    "B_f = (B_f-0)/(0.75-0)\n",
    "\n",
    "# Apply range limits for each channel. RGB values must be between 0 and 1\n",
    "R_f = np.clip(R_f, 0, 1)\n",
    "G_f = np.clip(G_f, 0, 1)\n",
    "B_f = np.clip(B_f, 0, 1)\n",
    "\n",
    "# Apply the gamma correction to Red channel.\n",
    "#   corrected_value = value^(1/gamma)\n",
    "gamma = 0.4\n",
    "R_f = np.power(R_f, 1/gamma)\n",
    "\n",
    "# The final RGB array :)\n",
    "RGB_f = np.dstack([R_f, G_f, B_f])\n"
   ]
  },
  {
   "cell_type": "code",
   "execution_count": null,
   "metadata": {},
   "outputs": [],
   "source": [
    "\n",
    "\n",
    "# Create a color tuple for pcolormesh\n",
    "\n",
    "# Don't use the last column of the RGB array or else the image will be scrambled!\n",
    "# This is the strange nature of pcolormesh.\n",
    "rgb_f = RGB_f[:,:-1,:]\n",
    "\n",
    "# Flatten the array, becuase that's what pcolormesh wants.\n",
    "colorTuple_f = rgb_f.reshape((rgb_f.shape[0] * rgb_f.shape[1]), 3)\n",
    "\n",
    "# Adding an alpha channel will plot faster, according to Stack Overflow. Not sure why.\n",
    "colorTuple_f = np.insert(colorTuple_f, 3, 1.0, axis=1)\n",
    "\n"
   ]
  },
  {
   "cell_type": "code",
   "execution_count": null,
   "metadata": {},
   "outputs": [],
   "source": [
    "# GOES on HRRR projection\n",
    "fig = plt.figure(figsize=(16,9))\n",
    "\n",
    "# \"destination\" projection\n",
    "ax = plt.axes(projection=HRRR_proj)\n",
    "\n",
    "# \"Source\" projection\n",
    "newmap = ax.pcolormesh(lons, lats, R_f, color=colorTuple_f, linewidth=0, transform=ccrs.PlateCarree())\n",
    "newmap.set_array(None)\n",
    "\n",
    "ax.coastlines(resolution='10m', color='dodgerblue')\n",
    "\n",
    "ax.set_extent([-122, -120, 38.5, 40.5])\n",
    "ax.gridlines()"
   ]
  },
  {
   "cell_type": "code",
   "execution_count": null,
   "metadata": {},
   "outputs": [],
   "source": [
    "#Load the three channels into appropriate R, G, and B variables\n",
    "TC_R = C['CMI_C02'].data\n",
    "TC_G = C['CMI_C03'].data\n",
    "TC_B = C['CMI_C01'].data\n",
    "\n",
    "# Apply range limits for each channel. RGB values must be between 0 and 1\n",
    "TC_R = np.clip(TC_R, 0, 1)\n",
    "TC_G = np.clip(TC_G, 0, 1)\n",
    "TC_B = np.clip(TC_B, 0, 1)\n",
    "\n",
    "# Apply a gamma correction to the image\n",
    "gamma = 2.2\n",
    "TC_R = np.power(TC_R, 1/gamma)\n",
    "TC_G = np.power(TC_G, 1/gamma)\n",
    "TC_B = np.power(TC_B, 1/gamma)\n",
    "\n",
    "# Calculate the \"True\" Green\n",
    "TC_G_true = 0.45 * TC_R + 0.1 * TC_G + 0.45 * TC_B\n",
    "TC_G_true = np.maximum(TC_G_true, 0)\n",
    "TC_G_true = np.minimum(TC_G_true, 1)\n",
    "\n",
    "# The RGB array for the true color image\n",
    "TC_RGB = np.dstack([TC_R, TC_G_true, TC_B])\n",
    "\n",
    "# Create a color tuple for pcolormesh\n",
    "# Amount of contrast\n",
    "contrast_amount = 150\n",
    "\n",
    "# Apply contrast correction\n",
    "TC_RGB_contrast = contrast_correction(np.dstack([TC_R, TC_G_true, TC_B]), contrast_amount)\n",
    "# Don't use the last column of the RGB array or else the image will be scrambled!\n",
    "# This is the strange nature of pcolormesh.\n",
    "TC_rgb = TC_RGB[:,:-1,:]\n",
    "\n",
    "\n",
    "# Flatten the array, becuase that's what pcolormesh wants.\n",
    "TC_colorTuple = TC_rgb.reshape((TC_rgb.shape[0] * TC_rgb.shape[1]), 3)\n",
    "\n",
    "# Adding an alpha channel will plot faster, according to Stack Overflow. Not sure why.\n",
    "TC_colorTuple = np.insert(TC_colorTuple, 3, 1.0, axis=1)"
   ]
  },
  {
   "cell_type": "code",
   "execution_count": null,
   "metadata": {},
   "outputs": [],
   "source": [
    "from metpy.plots import USCOUNTIES # Make sure metpy is updated to latest version."
   ]
  },
  {
   "cell_type": "code",
   "execution_count": null,
   "metadata": {},
   "outputs": [],
   "source": [
    "fig, (ax1, ax2) = plt.subplots(1, 2, figsize=(12,6), subplot_kw={'projection': ccrs.PlateCarree()})\n",
    "\n",
    "\n",
    "\n",
    "newmap = ax1.pcolormesh(lons, lats, R_f, color=colorTuple_f, linewidth=0, transform=ccrs.PlateCarree())\n",
    "newmap.set_array(None)\n",
    "ax1.coastlines(resolution='10m', color='dodgerblue')\n",
    "ax1.add_feature(USCOUNTIES.with_scale('500k'), edgecolor='dodgerblue', linewidth=.2)\n",
    "ax1.set_extent([-122.5, -120, 38, 41])\n",
    "\n",
    "\n",
    "ax1.set_title('Fire Temperature');\n",
    "\n",
    "\n",
    "\n",
    "ax2.pcolormesh(lons, lats, R, color='Greys_r', linewidth=0, transform=ccrs.PlateCarree())\n",
    "\n",
    "ax2.coastlines(resolution='10m', color='dodgerblue')\n",
    "ax2.add_feature(USCOUNTIES.with_scale('500k'), edgecolor='dodgerblue', linewidth=.2)\n",
    "ax2.set_extent([-122.5, -120, 38, 41])\n",
    "\n",
    "\n",
    "\n",
    "ax2.set_title('True Color');\n",
    "plt.savefig('fireT_truecolor.png', dpi = 500)"
   ]
  },
  {
   "cell_type": "code",
   "execution_count": null,
   "metadata": {},
   "outputs": [],
   "source": [
    "# Composite the two RGB images by finding the maximum R, G, and B value between the two\n",
    "# Then create the new RGB and colorTuple\n",
    "composite_R = np.maximum(R, TC_R)\n",
    "composite_G = np.maximum(G, TC_G_true)\n",
    "composite_B = np.maximum(B, TC_B)\n",
    "\n",
    "composite_RGB = np.dstack([composite_R, composite_G, composite_B])\n",
    "\n",
    "# Create a color tuple for pcolormesh\n",
    "\n",
    "# Don't use the last column of the RGB array or else the image will be scrambled!\n",
    "# This is the strange nature of pcolormesh.\n",
    "composite_rgb = composite_RGB[:,:-1,:]\n",
    "\n",
    "# Flatten the array, becuase that's what pcolormesh wants.\n",
    "composite_colorTuple = composite_rgb.reshape((composite_rgb.shape[0] * composite_rgb.shape[1]), 3)\n",
    "\n",
    "# Adding an alpha channel will plot faster, according to Stack Overflow. Not sure why.\n",
    "composite_colorTuple = np.insert(composite_colorTuple, 3, 1.0, axis=1)"
   ]
  },
  {
   "cell_type": "code",
   "execution_count": null,
   "metadata": {},
   "outputs": [],
   "source": [
    "# GOES on HRRR projection\n",
    "fig = plt.figure(figsize=(16,9))\n",
    "\n",
    "# \"destination\" projection\n",
    "ax = plt.axes(projection=HRRR_proj)\n",
    "\n",
    "# \"Source\" projection\n",
    "newmap = ax.pcolormesh(lons, lats, R, color=composite_colorTuple, linewidth=0, transform=ccrs.PlateCarree())\n",
    "newmap.set_array(None)\n",
    "\n",
    "ax.coastlines(resolution='10m', color='dodgerblue')\n",
    "\n",
    "ax.set_extent([-122.5, -120, 38, 41])\n",
    "ax.add_feature(USCOUNTIES.with_scale('500k'), edgecolor='dodgerblue', linewidth=.2)\n",
    "\n",
    "plt.savefig('fire+truecolot.png', dpi = 500)"
   ]
  },
  {
   "cell_type": "code",
   "execution_count": null,
   "metadata": {},
   "outputs": [],
   "source": []
  },
  {
   "cell_type": "code",
   "execution_count": null,
   "metadata": {},
   "outputs": [],
   "source": []
  },
  {
   "cell_type": "code",
   "execution_count": null,
   "metadata": {},
   "outputs": [],
   "source": []
  }
 ],
 "metadata": {
  "kernelspec": {
   "display_name": "Python [conda env:sats]",
   "language": "python",
   "name": "conda-env-sats-py"
  },
  "language_info": {
   "codemirror_mode": {
    "name": "ipython",
    "version": 3
   },
   "file_extension": ".py",
   "mimetype": "text/x-python",
   "name": "python",
   "nbconvert_exporter": "python",
   "pygments_lexer": "ipython3",
   "version": "3.7.3"
  },
  "latex_envs": {
   "LaTeX_envs_menu_present": true,
   "autoclose": false,
   "autocomplete": true,
   "bibliofile": "biblio.bib",
   "cite_by": "apalike",
   "current_citInitial": 1,
   "eqLabelWithNumbers": true,
   "eqNumInitial": 1,
   "hotkeys": {
    "equation": "Ctrl-E",
    "itemize": "Ctrl-I"
   },
   "labels_anchors": false,
   "latex_user_defs": false,
   "report_style_numbering": false,
   "user_envs_cfg": false
  },
  "varInspector": {
   "cols": {
    "lenName": 16,
    "lenType": 16,
    "lenVar": 40
   },
   "kernels_config": {
    "python": {
     "delete_cmd_postfix": "",
     "delete_cmd_prefix": "del ",
     "library": "var_list.py",
     "varRefreshCmd": "print(var_dic_list())"
    },
    "r": {
     "delete_cmd_postfix": ") ",
     "delete_cmd_prefix": "rm(",
     "library": "var_list.r",
     "varRefreshCmd": "cat(var_dic_list()) "
    }
   },
   "types_to_exclude": [
    "module",
    "function",
    "builtin_function_or_method",
    "instance",
    "_Feature"
   ],
   "window_display": false
  }
 },
 "nbformat": 4,
 "nbformat_minor": 2
}
