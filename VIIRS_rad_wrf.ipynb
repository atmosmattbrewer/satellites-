{
 "cells": [
  {
   "cell_type": "code",
   "execution_count": null,
   "metadata": {
    "ExecuteTime": {
     "end_time": "2019-04-16T21:24:58.239701Z",
     "start_time": "2019-04-16T21:24:42.800277Z"
    }
   },
   "outputs": [],
   "source": [
    "from netCDF4 import Dataset\n",
    "import numpy as np\n",
    "import matplotlib.pyplot as plt\n",
    "import matplotlib as mpl\n",
    "import cartopy.crs as ccrs\n",
    "from cartopy.feature import NaturalEarthFeature\n",
    "import cartopy.feature as cfeature\n",
    "import cartopy.io.shapereader as shpreader\n",
    "import scipy.ndimage as ndimage\n",
    "from wrf import(getvar,interplevel, to_np, latlon_coords, interpline, get_cartopy, cartopy_xlim, cartopy_ylim,ALL_TIMES, vertcross, smooth2d, CoordPair, GeoBounds)\n",
    "from metpy.plots import USCOUNTIES\n",
    "import metpy.calc as mpcalc\n",
    "from metpy.units import units\n",
    "import pandas as pd\n",
    "from satpy import Scene\n",
    "from satpy import find_files_and_readers\n",
    "from glob import glob\n",
    "from satpy.writers import cf_writer\n",
    "from satpy.writers import get_enhanced_image\n",
    "from metpy.plots import USCOUNTIES # Make sure metpy is updated to latest version.\n",
    "import xarray as xr\n",
    "from pathlib import Path\n",
    "import pyart\n",
    "import pandas as pd\n",
    "from netCDF4 import Dataset\n",
    "import numpy as np\n",
    "import matplotlib.pyplot as plt\n",
    "import matplotlib as mpl\n",
    "import cartopy.crs as crs\n",
    "from cartopy.feature import NaturalEarthFeature\n",
    "import cartopy.feature as cfeature\n",
    "import cartopy.io.shapereader as shpreader\n",
    "import scipy.ndimage as ndimage\n",
    "from wrf import(getvar,interplevel, to_np, latlon_coords, interpline, get_cartopy, cartopy_xlim, cartopy_ylim,ALL_TIMES, vertcross, smooth2d, CoordPair, GeoBounds)\n",
    "from metpy.plots import USCOUNTIES\n",
    "import metpy.calc as mpcalc\n",
    "from metpy.units import units\n",
    "import pandas as pd\n",
    "\n",
    "\n",
    "############################################\n",
    "mpl.rcParams['text.latex.preamble'] = [r'\\boldmath']\n",
    "\n",
    "\n",
    "####################################################################################\n",
    "############################ WRF READ-IN #########################################\n",
    "####################################################################################\n",
    "ds = Dataset('/export/home/mbrewer/wrf_out/wrfout_d02_2018-11-08_18:00:00')\n",
    "time = getvar(ds, \"times\",timeidx=ALL_TIMES)\n",
    "u, v=getvar(ds, 'uvmet10', timeidx = ALL_TIMES)\n",
    "lats, lons = latlon_coords(u)\n",
    "skip = 10\n",
    "####################################################################################\n",
    "############################ RADAR READ-IN #########################################\n",
    "####################################################################################\n",
    "\"\"\"rad = glob(\"/export/home/mbrewer/Documents/radar_files/KBBX2018110*\")\n",
    "\n",
    "radar = pyart.io.read_nexrad_archive(rad)\n",
    "gf = pyart.filters.GateFilter(radar)\n",
    "gf.exclude_transition()\n",
    "gf.exclude_above('reflectivity', 100) #Mask out dBZ above 100\n",
    "gf.exclude_below('reflectivity', 5) #Mask out dBZ below 5\n",
    "despec = pyart.correct.despeckle_field(radar, 'reflectivity',gatefilter = gf, size = 20) #The despeckling mask routine that takes out small noisey reflectivity bits not near the main plume\n",
    "\"\"\"\n",
    "\n",
    "####################################################################################\n",
    "############################ VIIRS READ-IN #########################################\n",
    "####################################################################################\n",
    "scn = Scene(\n",
    "        filenames=glob(\"/export/home/mbrewer/Documents/sats/npp/*\"),\n",
    "        reader='viirs_l1b')\n",
    "scn.load(['true_color', 'I03', 'I02'])\n",
    "new_scn = scn.resample('northamerica')\n",
    "var = get_enhanced_image(new_scn['true_color']).data\n",
    "var = var.transpose('y', 'x', 'bands')"
   ]
  },
  {
   "cell_type": "code",
   "execution_count": null,
   "metadata": {
    "ExecuteTime": {
     "end_time": "2019-04-16T21:25:02.249844Z",
     "start_time": "2019-04-16T21:25:01.568597Z"
    }
   },
   "outputs": [],
   "source": [
    "### Reading in local road shapefiles to be used with the \"base map\", the roads help to give some spatial scale and awarenes in my opinion\n",
    "reader = shpreader.Reader('/export/home/mbrewer/wrf_out/shapefiles/tl_2018_06_prisecroads.shp')\n",
    "roads = list(reader.geometries())                                                                     ## Most major California roadways\n",
    "roads = cfeature.ShapelyFeature(roads, crs.PlateCarree())\n",
    "\n",
    "reader = shpreader.Reader('/export/home/mbrewer/wrf_out/shapefiles/tl_2018_06007_roads.shp')\n",
    "s_roads = list(reader.geometries())                                                                  ### All roads in Butte county.... kinda messy\n",
    "s_roads = cfeature.ShapelyFeature(s_roads, crs.PlateCarree())\n",
    "\n",
    "# Function used to create the \"base map for all of the plots\"\n",
    "def plot_background(ax):\n",
    "\n",
    "    ax.coastlines(resolution='10m', linewidth=2, color = 'black', zorder = 4)\n",
    "    political_boundaries = NaturalEarthFeature(category='cultural',\n",
    "                                   name='admin_0_boundary_lines_land',\n",
    "                                   scale='10m', facecolor='none')\n",
    "    states = NaturalEarthFeature(category='cultural',\n",
    "                                   name='admin_1_states_provinces_lines',\n",
    "                                   scale='50m', facecolor='none')\n",
    "\n",
    "    ax.add_feature(political_boundaries, linestyle='-', edgecolor='black', zorder =4)\n",
    "    ax.add_feature(states, linestyle='-', edgecolor='black',linewidth=2, zorder =4)\n",
    "    ax.add_feature(USCOUNTIES.with_scale('500k'), edgecolor='black', linewidth=1, zorder = 1) #### Using Metpy's county shapefiles due to hi-resolution and they also help with spartial awareness\n",
    "    ax.add_feature(roads, facecolor='none', edgecolor='dimgrey', zorder = 1, linewidth = 1) \n",
    "    return ax\n",
    "\n",
    "##### Funtiction used to calculate the Streamwise component of a wind from a specified angle\n",
    "def streamwise(Ua,Va, deg = 30):\n",
    "    \n",
    "    \"\"\" Function used to calculated the streamwise component of the wind base off https://www.eol.ucar.edu/content/wind-direction-quick-reference\n",
    "     deg\n",
    "    \"\"\"\n",
    "    Ugeo=-1*np.sin(np.deg2rad(deg))\n",
    "    Vgeo=-1*np.cos(np.deg2rad(deg))\n",
    "    D=np.arctan2(Vgeo,Ugeo)\n",
    "    Us=Ua*np.cos(D)+Va*np.sin(D)\n",
    "    Vs=-Ua*np.sin(D)+Va*np.cos(D)\n",
    "    return Us,Vs  \n",
    "\n",
    "\n",
    "def t_ind(Time):\n",
    "    \n",
    "    \"\"\" Time = Local time\n",
    "    input time sting in Y-m-d H:M:S format \"\"\"\n",
    "    ds_time = pd.to_datetime(time.data).tz_localize('UTC').tz_convert('US/Pacific')\n",
    "    T = pd.to_datetime(Time, format = '%Y-%m-%d %H:%M:%S').tz_localize('UTC').tz_convert('US/Pacific')\n",
    "    T_ind = np.where(ds_time == T)\n",
    "    t = int(T_ind[0])\n",
    "    ts = str(T)[:-9]\n",
    "    return t,ts\n"
   ]
  },
  {
   "cell_type": "code",
   "execution_count": null,
   "metadata": {
    "ExecuteTime": {
     "end_time": "2019-04-16T00:43:14.556079Z",
     "start_time": "2019-04-16T00:42:09.291918Z"
    }
   },
   "outputs": [],
   "source": [
    "fig = plt.figure(figsize=(20, 10), dpi=200)\n",
    "crs = new_scn['true_color'].attrs['area'].to_cartopy_crs()\n",
    "ax = fig.add_subplot(1, 1, 1, projection=crs)\n",
    "\n",
    "ax.imshow(var, extent=(var.x[0], var.x[-1], var.y[-1], var.y[0]), origin='upper', cmap ='binary_r')\n",
    "ax.add_feature(USCOUNTIES.with_scale('500k'), edgecolor='orange', alpha = .75)\n",
    "ax.set_extent([-122.5, -120.5, 39., 40.5], crs=ccrs.PlateCarree())\n",
    "display = pyart.graph.RadarMapDisplayCartopy(radar)    \n",
    "display.plot_ppi_map('reflectivity', 0,  embelish = False, #The \"0\" is the lowest PPI scan, increasing this number increases the scanning elevation\n",
    "             vmin=-10, vmax=64, colorbar_flag = False, fig = fig, ax=ax, alpha = .04, projection = crs, title_flag = False)#, gatefilter = gf)\n",
    "\n",
    "#display.plot_colorbar(label = 'Reflectivity (dBZ)', label_size = 25 ,ticklabel_size = 22,  ax =ax)\n",
    "\n",
    "ax.quiver(to_np(lons[::skip,::skip]), to_np(lats[::skip,::skip]),\n",
    "              to_np(u[0,::skip,::skip]), to_np(v[0,::skip,::skip]),  units='inches',  scale=40,transform= ccrs.PlateCarree(), color = 'k',alpha = .7, zorder = 10)\n",
    "\n",
    "#plt.title('Satellite: %s'%(st), loc='left', fontweight='bold', fontsize = 18)\n",
    "#plt.title('Radar: KBBX', loc='center', fontsize = 15)\n",
    "plt.title('Satellite Scan Time: %s PST' % (pd.Timestamp(scn.attrs['start_time']).tz_localize('UTC').tz_convert('US/Pacific').strftime(\"%Y-%m-%d %H:%M:%S\")),loc='left', fontsize = 12)\n",
    "#ax.text(0.25, 1.0, )\n",
    "plt.tight_layout()\n",
    "#plt.savefig('viirs_2130z.png', dpi = 400)"
   ]
  },
  {
   "cell_type": "code",
   "execution_count": null,
   "metadata": {},
   "outputs": [],
   "source": [
    "td2 = getvar(ds, 'td2', timeidx=ALL_TIMES)\n",
    "u_10, v_10 =getvar(ds, 'uvmet10', timeidx = ALL_TIMES)\n",
    "\n",
    "t_list = ['2018-11-08 21:00:00', '2018-11-08 21:10:00','2018-11-08 21:20:00','2018-11-08 21:30:00','2018-11-08 21:40:00','2018-11-08 21:50:00']\n",
    "for t in t_list:\n",
    "    t, ts = t_ind(t)\n",
    "    skip = 10\n",
    "    cf_var = td2\n",
    "    u,v = u_10, v_10\n",
    "    lats, lons = latlon_coords(cf_var)\n",
    "    cart_proj = get_cartopy(cf_var)\n",
    "    # Create the figure\n",
    "    fig, ax = plt.subplots(figsize = (30,20),subplot_kw={'projection': cart_proj}, dpi = 300)\n",
    "    plot_background(ax)\n",
    "\n",
    "\n",
    "    # Add the color contours\n",
    "    levels = np.arange(-30,10, 1)\n",
    "    cf = ax.contourf(to_np(lons), to_np(lats), to_np(cf_var[t]),levels = levels, cmap='jet_r',transform=crs.PlateCarree(), vmax = cf_var.max()-5)\n",
    "    cb = plt.colorbar(cf, ax=ax, orientation=\"vertical\", pad=.001,label = 25)\n",
    "    cb.ax.tick_params(labelsize=25)\n",
    "    cb.set_label('2-m Dew Point Temp ($\\degree$C)', fontsize = 30 , fontweight='bold')\n",
    "    \n",
    "    display = pyart.graph.RadarMapDisplayCartopy(radar)    \n",
    "    display.plot_ppi_map('reflectivity', 0,  embelish = False, #The \"0\" is the lowest PPI scan, increasing this number increases the scanning elevation\n",
    "             vmin=-10, vmax=64, colorbar_flag = False, fig = fig, ax=ax, alpha = .04, projection = crs, title_flag = False)#, gatefilter = gf)\n",
    "\n",
    "    #display.plot_colorbar(label = 'Reflectivity (dBZ)', label_size = 25 ,ticklabel_size = 22,  ax =ax)\n",
    "\n",
    "    # adding in wind barbs, skip defined above skips that interval of barbs to make the plot more readable \n",
    "    ax.quiver(to_np(lons[::skip,::skip]), to_np(lats[::skip,::skip]),\n",
    "              to_np(u[0,::skip,::skip]), to_np(v[0,::skip,::skip]),  units='inches',  scale=40,transform= ccrs.PlateCarree(), color = 'k',alpha = .7, zorder = 10)\n",
    "    #ax.scatter(-121.6219, 39.7596, s =350,  marker = '*', label = 'Paradise, California', transform = crs.PlateCarree(), color = 'k',)\n",
    "    #ax.legend(fontsize = 25, loc =  3)\n",
    "\n",
    "    # Set the map bounds\n",
    "    ax.set_xlim(cartopy_xlim(cf_var[0]))\n",
    "    ax.set_ylim(cartopy_ylim(cf_var[0]))\n",
    "   # ax.gridlines()\n",
    "\n",
    "    # Add a title\n",
    "    #plt.title('WRF %0.1f m'%(ds.DX), loc='left', fontweight='bold', fontsize = 35)\n",
    "    #plt.title('Color Fill: %s \\n Barbs: %s'%(cf_var.description.title(), u.description) , loc='center', fontweight='bold', fontsize = 25)\n",
    "    #plt.title('%s'%(cf_var.description.title()) , loc='center', fontweight='bold', fontsize = 25)\n",
    "    plt.title('Valid Time:\\n %s PST \\n Radar Scan Time: %s PST'  % (ts,pd.to_datetime(radar.time['units'][14:-1], format = '%Y-%m-%dT%H:%M:%S').tz_localize('UTC').tz_convert('US/Pacific').strftime(\"%Y-%m-%d %H:%M:%S\")), loc='left', fontweight='bold', fontsize = 25)\n",
    "    plt.savefig('%s.png'% (cf_var.description + ' ' + str(ds.DX) + ' ' + ts),dpi = 300, bbox_inches = 'tight')\n",
    "    plt.show()"
   ]
  },
  {
   "cell_type": "code",
   "execution_count": null,
   "metadata": {
    "ExecuteTime": {
     "end_time": "2019-04-16T21:26:47.239568Z",
     "start_time": "2019-04-16T21:26:47.234500Z"
    }
   },
   "outputs": [],
   "source": [
    "t_list = ['2018-11-08 18:00:00', '2018-11-08 18:30:00']\n",
    "for t in t_list:\n",
    "    t, ts = t_ind(t)\n",
    "    print(-1*(t+1))"
   ]
  },
  {
   "cell_type": "code",
   "execution_count": null,
   "metadata": {},
   "outputs": [],
   "source": []
  }
 ],
 "metadata": {
  "kernelspec": {
   "display_name": "Python [conda env:sats_rads_wrfs]",
   "language": "python",
   "name": "conda-env-sats_rads_wrfs-py"
  },
  "language_info": {
   "codemirror_mode": {
    "name": "ipython",
    "version": 3
   },
   "file_extension": ".py",
   "mimetype": "text/x-python",
   "name": "python",
   "nbconvert_exporter": "python",
   "pygments_lexer": "ipython3",
   "version": "3.6.7"
  },
  "varInspector": {
   "cols": {
    "lenName": 16,
    "lenType": 16,
    "lenVar": 40
   },
   "kernels_config": {
    "python": {
     "delete_cmd_postfix": "",
     "delete_cmd_prefix": "del ",
     "library": "var_list.py",
     "varRefreshCmd": "print(var_dic_list())"
    },
    "r": {
     "delete_cmd_postfix": ") ",
     "delete_cmd_prefix": "rm(",
     "library": "var_list.r",
     "varRefreshCmd": "cat(var_dic_list()) "
    }
   },
   "types_to_exclude": [
    "module",
    "function",
    "builtin_function_or_method",
    "instance",
    "_Feature"
   ],
   "window_display": false
  }
 },
 "nbformat": 4,
 "nbformat_minor": 2
}
