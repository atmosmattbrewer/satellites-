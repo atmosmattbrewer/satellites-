{
 "cells": [
  {
   "cell_type": "code",
   "execution_count": null,
   "metadata": {
    "ExecuteTime": {
     "end_time": "2019-04-15T23:21:25.110649Z",
     "start_time": "2019-04-15T23:21:23.035281Z"
    }
   },
   "outputs": [],
   "source": [
    "from satpy import Scene\n",
    "import cartopy.crs as ccrs\n",
    "import cartopy.feature as cfeature\n",
    "from metpy.plots import USCOUNTIES\n",
    "from satpy import find_files_and_readers\n",
    "from glob import glob\n",
    "import matplotlib.pyplot as plt\n",
    "import numpy as np\n",
    "from satpy.writers import cf_writer\n",
    "from satpy.writers import get_enhanced_image\n",
    "from metpy.plots import USCOUNTIES # Make sure metpy is updated to latest version.\n",
    "import xarray as xr\n",
    "from pathlib import Path\n",
    "import pyart\n",
    "import pandas as pd"
   ]
  },
  {
   "cell_type": "code",
   "execution_count": null,
   "metadata": {
    "ExecuteTime": {
     "end_time": "2019-04-15T23:48:29.397464Z",
     "start_time": "2019-04-15T23:48:11.414408Z"
    }
   },
   "outputs": [],
   "source": [
    "el = Path(\"/export/home/mbrewer/Documents/GMTED2010_15n030_0125deg.nc\")\n",
    "rad = Path(\"/export/home/mbrewer/Documents/radar_files/KBBX20181108_213133_V06\")\n",
    "\n",
    "radar = pyart.io.read_nexrad_archive(rad)\n",
    "gf = pyart.filters.GateFilter(radar)\n",
    "gf.exclude_transition()\n",
    "gf.exclude_above('reflectivity', 100) #Mask out dBZ above 100\n",
    "gf.exclude_below('reflectivity', 5) #Mask out dBZ below 5\n",
    "despec = pyart.correct.despeckle_field(radar, 'reflectivity',gatefilter = gf, size = 20) #The despeckling mask routine that takes out small noisey reflectivity bits not near the main plume\n",
    "\n",
    "elev = xr.open_dataset(el)\n",
    "scn = Scene(\n",
    "        filenames=glob(\"npp/*\"),\n",
    "        reader='viirs_l1b')\n",
    "scn.load(['true_color', 'I03', 'I02'])\n",
    "new_scn = scn.resample('northamerica')\n",
    "var = get_enhanced_image(new_scn['true_color']).data\n",
    "var = var.transpose('y', 'x', 'bands')\n",
    "\n",
    "\n",
    "st = str(scn.attrs['sensor'])[2:-2]"
   ]
  },
  {
   "cell_type": "code",
   "execution_count": null,
   "metadata": {
    "ExecuteTime": {
     "end_time": "2019-04-16T00:08:14.929587Z",
     "start_time": "2019-04-16T00:07:11.100796Z"
    }
   },
   "outputs": [],
   "source": [
    "fig = plt.figure(figsize=(20, 10), dpi=200)\n",
    "crs = new_scn['true_color'].attrs['area'].to_cartopy_crs()\n",
    "ax = fig.add_subplot(1, 1, 1, projection=crs)\n",
    "\n",
    "ax.imshow(var, extent=(var.x[0], var.x[-1], var.y[-1], var.y[0]), origin='upper', cmap ='binary_r')\n",
    "ax.add_feature(USCOUNTIES.with_scale('500k'), edgecolor='orange', alpha = .75)\n",
    "ax.set_extent([-122.5, -120.5, 39., 40.5], crs=ccrs.PlateCarree())\n",
    "\n",
    "\n",
    "#plt.title('Satellite: %s'%(st), loc='left', fontweight='bold', fontsize = 18)\n",
    "#plt.title('Radar: KBBX', loc='center', fontsize = 15)\n",
    "plt.title('Satellite Scan Time: %s PST' % (pd.Timestamp(scn.attrs['start_time']).tz_localize('UTC').tz_convert('US/Pacific').strftime(\"%Y-%m-%d %H:%M:%S\")),loc='left', fontsize = 12)\n",
    "#ax.text(0.25, 1.0, )\n",
    "plt.tight_layout()\n",
    "plt.savefig('viirs_2130z.png', dpi = 400)"
   ]
  },
  {
   "cell_type": "code",
   "execution_count": null,
   "metadata": {
    "ExecuteTime": {
     "end_time": "2019-04-15T23:49:21.435682Z",
     "start_time": "2019-04-15T23:48:29.602228Z"
    },
    "scrolled": false
   },
   "outputs": [],
   "source": [
    "fig = plt.figure(figsize=(20, 10), dpi=200)\n",
    "crs = new_scn['true_color'].attrs['area'].to_cartopy_crs()\n",
    "ax = fig.add_subplot(1, 1, 1, projection=crs)\n",
    "\n",
    "ax.imshow(var, extent=(var.x[0], var.x[-1], var.y[-1], var.y[0]), origin='upper', cmap ='binary_r')\n",
    "#ax.add_feature(cfeature.COASTLINE.with_scale('10m'), edgecolor='orange')\n",
    "#ax.add_feature(cfeature.STATES.with_scale('10m'), edgecolor='orange')\n",
    "ax.add_feature(USCOUNTIES.with_scale('500k'), edgecolor='orange', alpha = .75)\n",
    "ax.set_extent([-122.5, -120.5, 39., 40.5], crs=ccrs.PlateCarree())\n",
    "#display = pyart.graph.RadarMapDisplayCartopy(radar)    \n",
    "#display.plot_ppi_map('reflectivity', 0,  embelish = False, #The \"0\" is the lowest PPI scan, increasing this number increases the scanning elevation\n",
    "#             vmin=-10, vmax=64, colorbar_flag = False, fig = fig, ax=ax, alpha = .04, projection = crs, title_flag = False)#, gatefilter = gf)\n",
    "\n",
    "#display.plot_colorbar(label = 'Reflectivity (dBZ)', label_size = 25 ,ticklabel_size = 22,  ax =ax)\n",
    "\n",
    "#plt.title('Satellite: %s'%(st), loc='left', fontweight='bold', fontsize = 18)\n",
    "#plt.title('Radar: KBBX', loc='center', fontsize = 15)\n",
    "plt.title('Satellite Scan Time: %s PST\\nRadar Scan Time: %s PST' % (pd.Timestamp(scn.attrs['start_time']).tz_localize('UTC').tz_convert('US/Pacific').strftime(\"%Y-%m-%d %H:%M:%S\"),\n",
    "                                                             pd.to_datetime(radar.time['units'][14:-1], format = '%Y-%m-%dT%H:%M:%S').tz_localize('UTC').tz_convert('US/Pacific').strftime(\"%Y-%m-%d %H:%M:%S\")),\n",
    "          loc='left', fontsize = 12)\n",
    "#ax.text(0.25, 1.0, )\n",
    "plt.tight_layout()\n",
    "#plt.savefig('viirs_radar_colorbar_2130z.png', dpi = 400)"
   ]
  },
  {
   "cell_type": "code",
   "execution_count": null,
   "metadata": {
    "ExecuteTime": {
     "end_time": "2019-04-15T23:22:28.031746Z",
     "start_time": "2019-04-15T23:22:28.029019Z"
    }
   },
   "outputs": [],
   "source": [
    "import cartopy\n",
    "print(cartopy.__version__)"
   ]
  }
 ],
 "metadata": {
  "kernelspec": {
   "display_name": "Python [conda env:sats]",
   "language": "python",
   "name": "conda-env-sats-py"
  },
  "language_info": {
   "codemirror_mode": {
    "name": "ipython",
    "version": 3
   },
   "file_extension": ".py",
   "mimetype": "text/x-python",
   "name": "python",
   "nbconvert_exporter": "python",
   "pygments_lexer": "ipython3",
   "version": "3.6.7"
  },
  "varInspector": {
   "cols": {
    "lenName": 16,
    "lenType": 16,
    "lenVar": 40
   },
   "kernels_config": {
    "python": {
     "delete_cmd_postfix": "",
     "delete_cmd_prefix": "del ",
     "library": "var_list.py",
     "varRefreshCmd": "print(var_dic_list())"
    },
    "r": {
     "delete_cmd_postfix": ") ",
     "delete_cmd_prefix": "rm(",
     "library": "var_list.r",
     "varRefreshCmd": "cat(var_dic_list()) "
    }
   },
   "types_to_exclude": [
    "module",
    "function",
    "builtin_function_or_method",
    "instance",
    "_Feature"
   ],
   "window_display": false
  }
 },
 "nbformat": 4,
 "nbformat_minor": 2
}
